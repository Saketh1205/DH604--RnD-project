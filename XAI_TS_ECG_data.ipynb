{
  "nbformat": 4,
  "nbformat_minor": 0,
  "metadata": {
    "colab": {
      "provenance": [],
      "gpuType": "T4"
    },
    "kernelspec": {
      "name": "python3",
      "display_name": "Python 3"
    },
    "language_info": {
      "name": "python"
    },
    "accelerator": "GPU"
  },
  "cells": [
    {
      "cell_type": "code",
      "source": [
        "pip install wildboar"
      ],
      "metadata": {
        "colab": {
          "base_uri": "https://localhost:8080/"
        },
        "id": "jnOVYHZl1sKS",
        "outputId": "253fba20-35f8-4925-865f-e0e32b7c2a5a"
      },
      "execution_count": null,
      "outputs": [
        {
          "output_type": "stream",
          "name": "stdout",
          "text": [
            "Collecting wildboar\n",
            "  Downloading wildboar-1.2.1-cp311-cp311-manylinux_2_17_x86_64.manylinux2014_x86_64.whl.metadata (10 kB)\n",
            "Requirement already satisfied: numpy>=1.19.5 in /usr/local/lib/python3.11/dist-packages (from wildboar) (1.26.4)\n",
            "Requirement already satisfied: scipy>=1.6.0 in /usr/local/lib/python3.11/dist-packages (from wildboar) (1.13.1)\n",
            "Collecting scikit-learn<1.6a,>=1.3 (from wildboar)\n",
            "  Downloading scikit_learn-1.5.2-cp311-cp311-manylinux_2_17_x86_64.manylinux2014_x86_64.whl.metadata (13 kB)\n",
            "Requirement already satisfied: joblib>=1.2.0 in /usr/local/lib/python3.11/dist-packages (from scikit-learn<1.6a,>=1.3->wildboar) (1.4.2)\n",
            "Requirement already satisfied: threadpoolctl>=3.1.0 in /usr/local/lib/python3.11/dist-packages (from scikit-learn<1.6a,>=1.3->wildboar) (3.5.0)\n",
            "Downloading wildboar-1.2.1-cp311-cp311-manylinux_2_17_x86_64.manylinux2014_x86_64.whl (13.6 MB)\n",
            "\u001b[2K   \u001b[90m━━━━━━━━━━━━━━━━━━━━━━━━━━━━━━━━━━━━━━━━\u001b[0m \u001b[32m13.6/13.6 MB\u001b[0m \u001b[31m29.7 MB/s\u001b[0m eta \u001b[36m0:00:00\u001b[0m\n",
            "\u001b[?25hDownloading scikit_learn-1.5.2-cp311-cp311-manylinux_2_17_x86_64.manylinux2014_x86_64.whl (13.3 MB)\n",
            "\u001b[2K   \u001b[90m━━━━━━━━━━━━━━━━━━━━━━━━━━━━━━━━━━━━━━━━\u001b[0m \u001b[32m13.3/13.3 MB\u001b[0m \u001b[31m113.0 MB/s\u001b[0m eta \u001b[36m0:00:00\u001b[0m\n",
            "\u001b[?25hInstalling collected packages: scikit-learn, wildboar\n",
            "  Attempting uninstall: scikit-learn\n",
            "    Found existing installation: scikit-learn 1.6.1\n",
            "    Uninstalling scikit-learn-1.6.1:\n",
            "      Successfully uninstalled scikit-learn-1.6.1\n",
            "Successfully installed scikit-learn-1.5.2 wildboar-1.2.1\n"
          ]
        }
      ]
    },
    {
      "cell_type": "code",
      "source": [
        "!pip install growingspheres"
      ],
      "metadata": {
        "colab": {
          "base_uri": "https://localhost:8080/"
        },
        "id": "i6xr8ouy1-Ax",
        "outputId": "f51d67fb-0d8f-432b-d487-d23c6375cf8c"
      },
      "execution_count": null,
      "outputs": [
        {
          "output_type": "stream",
          "name": "stdout",
          "text": [
            "\u001b[31mERROR: Could not find a version that satisfies the requirement growingspheres (from versions: none)\u001b[0m\u001b[31m\n",
            "\u001b[0m\u001b[31mERROR: No matching distribution found for growingspheres\u001b[0m\u001b[31m\n",
            "\u001b[0m"
          ]
        }
      ]
    },
    {
      "cell_type": "code",
      "source": [
        "pip install git+https://github.com/thibaultlaugel/growingspheres.git"
      ],
      "metadata": {
        "colab": {
          "base_uri": "https://localhost:8080/"
        },
        "id": "ovP1J9Kq1-5U",
        "outputId": "57537681-e3c0-4417-fb65-408912d951e2"
      },
      "execution_count": null,
      "outputs": [
        {
          "output_type": "stream",
          "name": "stdout",
          "text": [
            "Collecting git+https://github.com/thibaultlaugel/growingspheres.git\n",
            "  Cloning https://github.com/thibaultlaugel/growingspheres.git to /tmp/pip-req-build-1j6lc_66\n",
            "  Running command git clone --filter=blob:none --quiet https://github.com/thibaultlaugel/growingspheres.git /tmp/pip-req-build-1j6lc_66\n",
            "  Resolved https://github.com/thibaultlaugel/growingspheres.git to commit 894ce969f39f4f927f1732e569fb5e7ac6f770a9\n",
            "\u001b[31mERROR: git+https://github.com/thibaultlaugel/growingspheres.git does not appear to be a Python project: neither 'setup.py' nor 'pyproject.toml' found.\u001b[0m\u001b[31m\n",
            "\u001b[0m"
          ]
        }
      ]
    },
    {
      "cell_type": "code",
      "source": [
        "!rm -rf growingspheres"
      ],
      "metadata": {
        "id": "VGVaqio68A5z"
      },
      "execution_count": null,
      "outputs": []
    },
    {
      "cell_type": "code",
      "source": [
        "!git clone https://github.com/thibaultlaugel/growingspheres.git"
      ],
      "metadata": {
        "colab": {
          "base_uri": "https://localhost:8080/"
        },
        "id": "mnxi1Ha36a6Q",
        "outputId": "f5d4abf1-1c40-4921-bc55-0355d30823ea"
      },
      "execution_count": null,
      "outputs": [
        {
          "output_type": "stream",
          "name": "stdout",
          "text": [
            "Cloning into 'growingspheres'...\n",
            "remote: Enumerating objects: 92, done.\u001b[K\n",
            "remote: Counting objects: 100% (92/92), done.\u001b[K\n",
            "remote: Compressing objects: 100% (59/59), done.\u001b[K\n",
            "remote: Total 92 (delta 42), reused 73 (delta 31), pack-reused 0 (from 0)\u001b[K\n",
            "Receiving objects: 100% (92/92), 333.03 KiB | 9.51 MiB/s, done.\n",
            "Resolving deltas: 100% (42/42), done.\n"
          ]
        }
      ]
    },
    {
      "cell_type": "code",
      "source": [
        "import sys\n",
        "sys.path.append('/content/growingspheres')"
      ],
      "metadata": {
        "id": "Ng1NNyHA6e4H"
      },
      "execution_count": null,
      "outputs": []
    },
    {
      "cell_type": "code",
      "source": [
        "sys.path"
      ],
      "metadata": {
        "colab": {
          "base_uri": "https://localhost:8080/"
        },
        "id": "FlifhPMl7ahS",
        "outputId": "0e947264-0312-4040-f298-e60f4278c892"
      },
      "execution_count": null,
      "outputs": [
        {
          "output_type": "execute_result",
          "data": {
            "text/plain": [
              "['/content',\n",
              " '/env/python',\n",
              " '/usr/lib/python311.zip',\n",
              " '/usr/lib/python3.11',\n",
              " '/usr/lib/python3.11/lib-dynload',\n",
              " '',\n",
              " '/usr/local/lib/python3.11/dist-packages',\n",
              " '/usr/lib/python3/dist-packages',\n",
              " '/usr/local/lib/python3.11/dist-packages/IPython/extensions',\n",
              " '/usr/local/lib/python3.11/dist-packages/setuptools/_vendor',\n",
              " '/root/.ipython',\n",
              " '/content/growingspheres/growingspheres',\n",
              " '/content/growingspheres',\n",
              " '/content/growingspheres/growingspheres',\n",
              " '/content/growingspheres/growingspheres',\n",
              " '/content/growingspheres',\n",
              " '/content/growingspheres/growingspheres',\n",
              " '/content/growingspheres']"
            ]
          },
          "metadata": {},
          "execution_count": 31
        }
      ]
    },
    {
      "cell_type": "code",
      "execution_count": null,
      "metadata": {
        "colab": {
          "base_uri": "https://localhost:8080/",
          "height": 505
        },
        "id": "zJI5rzeB1MnQ",
        "outputId": "9b0a0fd6-a747-448a-b92e-e53f29291ea7"
      },
      "outputs": [
        {
          "output_type": "error",
          "ename": "ImportError",
          "evalue": "attempted relative import with no known parent package",
          "traceback": [
            "\u001b[0;31m---------------------------------------------------------------------------\u001b[0m",
            "\u001b[0;31mImportError\u001b[0m                               Traceback (most recent call last)",
            "\u001b[0;32m<ipython-input-19-2127b7cdfcc8>\u001b[0m in \u001b[0;36m<cell line: 0>\u001b[0;34m()\u001b[0m\n\u001b[1;32m     14\u001b[0m \u001b[0;34m\u001b[0m\u001b[0m\n\u001b[1;32m     15\u001b[0m \u001b[0;31m# Growing spheres\u001b[0m\u001b[0;34m\u001b[0m\u001b[0;34m\u001b[0m\u001b[0m\n\u001b[0;32m---> 16\u001b[0;31m \u001b[0;32mfrom\u001b[0m \u001b[0mgrowingspheres\u001b[0m\u001b[0;34m.\u001b[0m\u001b[0mgrowingspheres\u001b[0m \u001b[0;32mimport\u001b[0m \u001b[0mcounterfactuals\u001b[0m \u001b[0;32mas\u001b[0m \u001b[0mcounterfactuals_gs\u001b[0m\u001b[0;34m\u001b[0m\u001b[0;34m\u001b[0m\u001b[0m\n\u001b[0m\u001b[1;32m     17\u001b[0m \u001b[0;32mfrom\u001b[0m \u001b[0mgrowingspheres\u001b[0m\u001b[0;34m.\u001b[0m\u001b[0mgrowingspheres\u001b[0m \u001b[0;32mimport\u001b[0m \u001b[0mgrowingspheres\u001b[0m\u001b[0;34m\u001b[0m\u001b[0;34m\u001b[0m\u001b[0m\n\u001b[1;32m     18\u001b[0m \u001b[0;32mfrom\u001b[0m \u001b[0mgrowingspheres\u001b[0m\u001b[0;34m.\u001b[0m\u001b[0mgrowingspheres\u001b[0m\u001b[0;34m.\u001b[0m\u001b[0mutils\u001b[0m \u001b[0;32mimport\u001b[0m \u001b[0mgs_utils\u001b[0m\u001b[0;34m\u001b[0m\u001b[0;34m\u001b[0m\u001b[0m\n",
            "\u001b[0;32m/content/growingspheres/growingspheres/growingspheres.py\u001b[0m in \u001b[0;36m<module>\u001b[0;34m\u001b[0m\n\u001b[1;32m      2\u001b[0m \u001b[0;31m# -*- coding: utf-8 -*-\u001b[0m\u001b[0;34m\u001b[0m\u001b[0;34m\u001b[0m\u001b[0m\n\u001b[1;32m      3\u001b[0m \u001b[0;34m\u001b[0m\u001b[0m\n\u001b[0;32m----> 4\u001b[0;31m \u001b[0;32mfrom\u001b[0m \u001b[0;34m.\u001b[0m\u001b[0mutils\u001b[0m\u001b[0;34m.\u001b[0m\u001b[0mgs_utils\u001b[0m \u001b[0;32mimport\u001b[0m \u001b[0mgenerate_ball\u001b[0m\u001b[0;34m,\u001b[0m \u001b[0mgenerate_sphere\u001b[0m\u001b[0;34m,\u001b[0m \u001b[0mgenerate_ring\u001b[0m\u001b[0;34m,\u001b[0m \u001b[0mget_distances\u001b[0m\u001b[0;34m\u001b[0m\u001b[0;34m\u001b[0m\u001b[0m\n\u001b[0m\u001b[1;32m      5\u001b[0m \u001b[0;32mfrom\u001b[0m \u001b[0mitertools\u001b[0m \u001b[0;32mimport\u001b[0m \u001b[0mcombinations\u001b[0m\u001b[0;34m\u001b[0m\u001b[0;34m\u001b[0m\u001b[0m\n\u001b[1;32m      6\u001b[0m \u001b[0;32mimport\u001b[0m \u001b[0mnumpy\u001b[0m \u001b[0;32mas\u001b[0m \u001b[0mnp\u001b[0m\u001b[0;34m\u001b[0m\u001b[0;34m\u001b[0m\u001b[0m\n",
            "\u001b[0;31mImportError\u001b[0m: attempted relative import with no known parent package",
            "",
            "\u001b[0;31m---------------------------------------------------------------------------\u001b[0;32m\nNOTE: If your import is failing due to a missing package, you can\nmanually install dependencies using either !pip or !apt.\n\nTo view examples of installing some common dependencies, click the\n\"Open Examples\" button below.\n\u001b[0;31m---------------------------------------------------------------------------\u001b[0m\n"
          ],
          "errorDetails": {
            "actions": [
              {
                "action": "open_url",
                "actionText": "Open Examples",
                "url": "/notebooks/snippets/importing_libraries.ipynb"
              }
            ]
          }
        }
      ],
      "source": [
        "import numpy as np\n",
        "\n",
        "import matplotlib.pyplot as plt\n",
        "plt.style.reload_library()\n",
        "\n",
        "from sklearn.model_selection import train_test_split\n",
        "from sklearn.ensemble import ExtraTreesClassifier\n",
        "from sklearn.preprocessing import normalize\n",
        "from sklearn.preprocessing import LabelEncoder\n",
        "\n",
        "from wildboar.datasets import load_dataset\n",
        "\n",
        "from tqdm.notebook import tqdm\n",
        "\n",
        "# Growing spheres\n",
        "from growingspheres.growingspheres import counterfactuals as counterfactuals_gs\n",
        "from growingspheres.growingspheres import growingspheres\n",
        "from growingspheres.growingspheres.utils import gs_utils"
      ]
    },
    {
      "cell_type": "code",
      "source": [
        "dataset = \"ECG200\"\n",
        "\n",
        "x_all, y_all = load_dataset(dataset, repository='wildboar/ucr')\n",
        "\n",
        "# remove rows with missing values\n",
        "x = x_all[~np.isnan(x_all).any(axis=1)]\n",
        "y_up = y_all[~np.isnan(x_all).any(axis=1)]\n",
        "\n",
        "# change labels 0,1,...\n",
        "le = LabelEncoder()\n",
        "y = le.fit_transform(y_up)\n",
        "\n",
        "classes = np.unique(y) # all class labels\n",
        "total_examples, ts_length = x.shape\n",
        "\n",
        "x_train, x_test, y_train, y_test = train_test_split(x, y, test_size=.30, random_state=4, shuffle=True, stratify=None)\n",
        "\n",
        "print('Dataset:', dataset)\n",
        "print('Classes:', classes)\n",
        "print('Dataset size:', total_examples)\n",
        "print('Time series length:', ts_length)\n",
        "for i in classes:\n",
        "    print('Size class', i, \":\", 100*np.sum(y==i)/total_examples,\"%\")"
      ],
      "metadata": {
        "colab": {
          "base_uri": "https://localhost:8080/"
        },
        "id": "l5yRB-RA1T3Q",
        "outputId": "f66cfce0-53d6-4375-8182-4cbbaa29280b"
      },
      "execution_count": null,
      "outputs": [
        {
          "output_type": "stream",
          "name": "stderr",
          "text": [
            "|██████████████████████████████████████████████████| 231.83/231.83 MB\n"
          ]
        },
        {
          "output_type": "stream",
          "name": "stdout",
          "text": [
            "Dataset: ECG200\n",
            "Classes: [0 1]\n",
            "Dataset size: 200\n",
            "Time series length: 96\n",
            "Size class 0 : 33.5 %\n",
            "Size class 1 : 66.5 %\n"
          ]
        }
      ]
    },
    {
      "cell_type": "code",
      "source": [
        "# Select one instance from each class\n",
        "idxs_0 = np.where(y_test == 0)\n",
        "idxs_1 = np.where(y_test == 1)\n",
        "\n",
        "data_idx_0 = idxs_0[0][3] # class 0\n",
        "data_idx_1 = idxs_1[0][0] # class 1\n",
        "\n",
        "\n",
        "# Plot\n",
        "fig = plt.figure(figsize=(6,3))\n",
        "ax = fig.add_subplot()\n",
        "ax.plot(x_test[data_idx_0], \"--\", c=\"tab:blue\", label=\"normal heartbeat\")\n",
        "ax.plot(x_test[data_idx_1], \"-\", c=\"tab:red\", label=\"myocardial infarction\")\n",
        "ax.set_ylabel('voltage (normalized)')\n",
        "ax.set_xlabel('time index')\n",
        "#plt.xticks(np.arange(0,98,10))\n",
        "ax.grid(1)\n",
        "ax.legend(loc=0)\n",
        "# plt.savefig(\"figures/fig3a.pdf\", dpi=100, bbox_inches=\"tight\", format=\"pdf\")"
      ],
      "metadata": {
        "colab": {
          "base_uri": "https://localhost:8080/",
          "height": 328
        },
        "id": "v6kTYMVg1T54",
        "outputId": "618cf3e4-7b55-4808-cebb-2f9d47475df5"
      },
      "execution_count": null,
      "outputs": [
        {
          "output_type": "execute_result",
          "data": {
            "text/plain": [
              "<matplotlib.legend.Legend at 0x7857992a7250>"
            ]
          },
          "metadata": {},
          "execution_count": 11
        },
        {
          "output_type": "display_data",
          "data": {
            "text/plain": [
              "<Figure size 600x300 with 1 Axes>"
            ],
            "image/png": "[encoded data removed]"
          },
          "metadata": {}
        }
      ]
    },
    {
      "cell_type": "code",
      "source": [
        "i = 4\n",
        "x_train, x_test, y_train, y_test = train_test_split(x, y, test_size=.30, random_state=i, shuffle=True, stratify=None)\n",
        "\n",
        "# transform all time series to the frequency domain\n",
        "max_len_coef = int(ts_length/2 + 1) # maximum number of coefficients\n",
        "\n",
        "X_F_train = np.fft.rfft(x_train)\n",
        "X_F_test = np.fft.rfft(x_test)\n",
        "\n",
        "\n",
        "X_F_train_amp, train_norm_amp = normalize(np.absolute(X_F_train),return_norm= True)  # amplitude\n",
        "X_F_train_ang = normalize(np.angle(X_F_train))     # phase\n",
        "X_F_test_amp, test_norm_amp = normalize(np.absolute(X_F_test),return_norm=True)    # amplitude\n",
        "X_F_test_ang, test_norm_ang = normalize(np.angle(X_F_test),return_norm=True)       # phase\n",
        "\n",
        "# combine amp and phase into one array\n",
        "X_F_train_amp_ang = np.empty((len(x_train),2*max_len_coef))\n",
        "X_F_train_amp_ang[:,0::2] = X_F_train_amp\n",
        "X_F_train_amp_ang[:,1::2] = X_F_train_ang\n",
        "X_F_test_amp_ang = np.empty((len(x_test),2*max_len_coef))\n",
        "X_F_test_amp_ang[:,0::2] = X_F_test_amp\n",
        "X_F_test_amp_ang[:,1::2] = X_F_test_ang\n",
        "\n",
        "# selected number of features\n",
        "L = 12 # Select only first L <= max_len_coef coefficients\n",
        "\n",
        "features_train = X_F_train_amp[:,:L]\n",
        "features_test = X_F_test_amp[:,:L]\n",
        "\n",
        "features = np.concatenate((features_test,features_train))\n",
        "y_true_all = np.concatenate((y_train,y_test))\n",
        "feature_labels = range(1,L+1)\n",
        "\n",
        "# Classifier\n",
        "model = ExtraTreesClassifier(random_state=1)\n",
        "model.fit(features_train, y_train)\n",
        "\n",
        "y_pred = model.predict(features_test)\n",
        "y_pred_all = model.predict(features)\n",
        "y_pred_proba = model.predict_proba(features_test)\n",
        "\n",
        "accuracy = model.score(features_test, y_test)\n",
        "print(\"Avg Accuracy:\", accuracy)"
      ],
      "metadata": {
        "colab": {
          "base_uri": "https://localhost:8080/"
        },
        "id": "vtFwYO-31T8n",
        "outputId": "69b89cd9-023b-4109-c5da-377c6af2b277"
      },
      "execution_count": null,
      "outputs": [
        {
          "output_type": "stream",
          "name": "stdout",
          "text": [
            "Avg Accuracy: 0.9\n"
          ]
        }
      ]
    },
    {
      "cell_type": "code",
      "source": [
        "rands = 100\n",
        "\n",
        "ce = []\n",
        "\n",
        "for i in tqdm(range(rands)):\n",
        "\n",
        "    data_idx = data_idx_1\n",
        "\n",
        "    obs = X_F_test_amp[data_idx,:L].reshape(1,-1)\n",
        "\n",
        "    CF = counterfactuals_gs.CounterfactualExplanation(obs, model.predict, target_class = None, method='GS', random_state = 123)\n",
        "    CF.fit(n_in_layer=2000, first_radius=5, dicrease_radius=10, sparse=False, verbose=False)\n",
        "\n",
        "    ce.append(CF.enemy)"
      ],
      "metadata": {
        "id": "h_1zXYom1d22"
      },
      "execution_count": null,
      "outputs": []
    },
    {
      "cell_type": "code",
      "source": [
        "changes_all = np.array(ce/obs) - 1\n",
        "\n",
        "changes = np.mean(changes_all, axis=0)\n",
        "\n",
        "changes[0] = np.nan\n",
        "changes_inc = changes.copy()\n",
        "changes_dec = changes.copy()\n",
        "\n",
        "changes_inc[changes <= 0] = np.nan\n",
        "changes_dec[changes > 0] = np.nan\n",
        "\n",
        "x_labels = range(1,L+1)\n",
        "\n",
        "fig = plt.figure(figsize=(6,3))\n",
        "ax = fig.add_subplot()\n",
        "ax.bar(x_labels, 100*(changes_inc), width=0.5, facecolor=\"tab:blue\")\n",
        "ax.bar(x_labels, 100*(changes_dec), width=0.5, facecolor=\"tab:red\")\n",
        "ax.set_ylabel('avg. counterfactual change [%]')\n",
        "ax.set_xlabel('feature index')\n",
        "plt.xticks(ticks = x_labels)\n",
        "ax.grid(1)\n",
        "#ax.set_ylim(-20,50)\n",
        "#ax.legend(loc=2)\n",
        "# plt.savefig(\"figures/fig3b.pdf\", dpi=100, bbox_inches=\"tight\", format=\"pdf\")"
      ],
      "metadata": {
        "id": "UDkBdm8j1d52"
      },
      "execution_count": null,
      "outputs": []
    },
    {
      "cell_type": "code",
      "source": [],
      "metadata": {
        "id": "tOsg6T4Z1d8r"
      },
      "execution_count": null,
      "outputs": []
    },
    {
      "cell_type": "code",
      "source": [],
      "metadata": {
        "id": "x273pXi91T_Q"
      },
      "execution_count": null,
      "outputs": []
    }
  ]
}